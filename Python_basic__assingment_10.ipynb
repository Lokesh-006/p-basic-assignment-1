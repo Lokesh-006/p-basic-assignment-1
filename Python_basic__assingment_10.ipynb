{
  "nbformat": 4,
  "nbformat_minor": 0,
  "metadata": {
    "colab": {
      "provenance": [],
      "authorship_tag": "ABX9TyMVMqRZ/HQ31bsW+9aVCrLE",
      "include_colab_link": true
    },
    "kernelspec": {
      "name": "python3",
      "display_name": "Python 3"
    },
    "language_info": {
      "name": "python"
    }
  },
  "cells": [
    {
      "cell_type": "markdown",
      "metadata": {
        "id": "view-in-github",
        "colab_type": "text"
      },
      "source": [
        "<a href=\"https://colab.research.google.com/github/Lokesh-006/p-basic-assignment-1/blob/main/Python_basic__assingment_10.ipynb\" target=\"_parent\"><img src=\"https://colab.research.google.com/assets/colab-badge.svg\" alt=\"Open In Colab\"/></a>"
      ]
    },
    {
      "cell_type": "markdown",
      "source": [
        "# Python Basic Assignment 10"
      ],
      "metadata": {
        "id": "CxG-eOO5GWVI"
      }
    },
    {
      "cell_type": "markdown",
      "source": [
        "### **1. How do you distinguish between shutil.copy() and shutil.copytree()?**"
      ],
      "metadata": {
        "id": "oBlT0bTyGbhn"
      }
    },
    {
      "cell_type": "markdown",
      "source": [
        "**shutil.copy()** and **shutil.copytree()** are both functions in the shutil module used for copying files and directories.\n",
        "\n",
        "\n",
        "The main difference between the two is that **shutil.copy()** is used to copy a single file, while **shutil.copytree()** is used to copy an entire directory and all of its contents."
      ],
      "metadata": {
        "id": "C0t4OxBdGbeI"
      }
    },
    {
      "cell_type": "code",
      "source": [
        "import shutil\n",
        "\n",
        "# Copy a single file\n",
        "shutil.copy('file1.txt', 'file2.txt')\n",
        "\n",
        "# Copy an entire directory and its contents\n",
        "shutil.copytree('dir1', 'dir2')"
      ],
      "metadata": {
        "id": "dXNRGh9KG4og"
      },
      "execution_count": null,
      "outputs": []
    },
    {
      "cell_type": "markdown",
      "source": [
        "### **2. What function is used to rename files?**\n"
      ],
      "metadata": {
        "id": "12RYUhhKGbX5"
      }
    },
    {
      "cell_type": "markdown",
      "source": [
        "1. The **shutil.move()** function is used to rename files in Python. It takes two arguments: the source path and the destination path.\n",
        "\n",
        "2. The **shutil.move()** function can also be used to move files between directories.\n",
        "If the destination file already exists, it will be replaced by the source file.\n"
      ],
      "metadata": {
        "id": "3HmwDNeBGbRY"
      }
    },
    {
      "source": [
        "import shutil\n",
        "\n",
        "# Rename a file\n",
        "shutil.move('old_name.txt', 'new_name.txt')"
      ],
      "cell_type": "code",
      "metadata": {
        "id": "I3P-zNobHjEE"
      },
      "execution_count": null,
      "outputs": []
    },
    {
      "cell_type": "markdown",
      "source": [
        "### **3. What is the difference between the delete functions in the send to trash and shutil modules?**"
      ],
      "metadata": {
        "id": "JHpOKjUIGbNI"
      }
    },
    {
      "cell_type": "markdown",
      "source": [
        "The main difference between the delete() functions in the send2trash and shutil modules is how they handle deleted files:\n",
        "\n",
        "**send2trash.delete():**\n",
        "\n",
        "\n",
        "*   Moves the file or directory to the trash instead of permanently deleting it.\n",
        "*   This allows the user to recover the file or directory later if needed.\n",
        "\n",
        "\n",
        "**shutil.rmtree():**\n",
        "\n",
        "\n",
        "*   Permanently deletes the file or directory and all of its contents.\n",
        "*   Does not offer any možnost for recovery.\n",
        "   \n",
        "\n",
        "\n",
        "\n"
      ],
      "metadata": {
        "id": "7Q-1BqhmIOwQ"
      }
    },
    {
      "cell_type": "markdown",
      "source": [
        "### **4.ZipFile objects have a close() method just like File objects’ close() method. What ZipFile method is equivalent to File objects’ open() method?**"
      ],
      "metadata": {
        "id": "JcEU1ac0IOt3"
      }
    },
    {
      "cell_type": "markdown",
      "source": [
        "The ZipFile() constructor is equivalent to the open() method of File objects for ZipFile objects. It opens a ZIP archive for reading, writing, or appending."
      ],
      "metadata": {
        "id": "3veJaumtJkOE"
      }
    },
    {
      "source": [
        "# Open a ZIP archive for reading\n",
        "with ZipFile('archive.zip', 'r') as zf:\n",
        "    # Read the contents of the archive\n",
        "\n",
        "# Open a ZIP archive for writing\n",
        "with ZipFile('archive.zip', 'w') as zf:\n",
        "    # Add files to the archive\n",
        "\n",
        "# Open a ZIP archive for appending\n",
        "with ZipFile('archive.zip', 'a') as zf:\n",
        "    # Add more files to the archive"
      ],
      "cell_type": "code",
      "metadata": {
        "id": "UNXW3N4GKOfK"
      },
      "execution_count": null,
      "outputs": []
    },
    {
      "cell_type": "markdown",
      "source": [
        "The first argument to the ZipFile() constructor is the path to the ZIP archive. The second argument is the mode in which to open the archive:\n",
        "\n",
        "*   'r'  for reading\n",
        "*   'w'  for writing (will create a new archive if it does not exist)\n",
        "*   'a'  for appending (will create a new archive if it does not exist)\n",
        "\n",
        "The with statement ensures that the ZIP archive is closed properly after use."
      ],
      "metadata": {
        "id": "uhum_N9dIOq3"
      }
    },
    {
      "cell_type": "markdown",
      "source": [
        "### **5. Create a programme that searches a folder tree for files with a certain file extension (such as .pdf or .jpg). Copy these files from whatever location they are in to a new folder.**"
      ],
      "metadata": {
        "id": "clm2LX7OIOn_"
      }
    },
    {
      "cell_type": "code",
      "source": [],
      "metadata": {
        "id": "uBSgr-0GGaRX"
      },
      "execution_count": null,
      "outputs": []
    },
    {
      "source": [
        "import os\n",
        "import shutil\n",
        "\n",
        "def find_and_copy(source_folder, target_folder, extension):\n",
        "  \"\"\"\n",
        "  Finds all files with a certain extension in a folder tree and copies them to a new folder.\n",
        "\n",
        "  Args:\n",
        "    source_folder: The folder to search in.\n",
        "    target_folder: The folder to copy the files to.\n",
        "    extension: The file extension to search for.\n",
        "  \"\"\"\n",
        "\n",
        "  for folder, subfolders, files in os.walk(source_folder):\n",
        "    for file in files:\n",
        "      if file.endswith(extension):\n",
        "        source_path = os.path.join(folder, file)\n",
        "        target_path = os.path.join(target_folder, file)\n",
        "        shutil.copy(source_path, target_path)\n",
        "\n",
        "# Example usage:\n",
        "source_folder = \"/home/user/source_folder\"\n",
        "target_folder = \"/home/user/target_folder\"\n",
        "extension = \".pdf\"\n",
        "\n",
        "find_and_copy(source_folder, target_folder, extension)"
      ],
      "cell_type": "code",
      "metadata": {
        "id": "FGplvAUwLPbP"
      },
      "execution_count": null,
      "outputs": []
    },
    {
      "cell_type": "markdown",
      "source": [
        "# Thank you"
      ],
      "metadata": {
        "id": "3Wv8rr0gMhFT"
      }
    }
  ]
}