{
  "nbformat": 4,
  "nbformat_minor": 0,
  "metadata": {
    "colab": {
      "provenance": [],
      "authorship_tag": "ABX9TyPch1acFNgVsAKkALCwCjpy",
      "include_colab_link": true
    },
    "kernelspec": {
      "name": "python3",
      "display_name": "Python 3"
    },
    "language_info": {
      "name": "python"
    }
  },
  "cells": [
    {
      "cell_type": "markdown",
      "metadata": {
        "id": "view-in-github",
        "colab_type": "text"
      },
      "source": [
        "<a href=\"https://colab.research.google.com/github/Lokesh-006/p-basic-assignment-1/blob/main/Python_basic_Assignment_13.ipynb\" target=\"_parent\"><img src=\"https://colab.research.google.com/assets/colab-badge.svg\" alt=\"Open In Colab\"/></a>"
      ]
    },
    {
      "cell_type": "markdown",
      "source": [
        "# ***Python_basic_Assignment_13***"
      ],
      "metadata": {
        "id": "rQOMzFDXkgX8"
      }
    },
    {
      "cell_type": "markdown",
      "source": [
        "### **1. What advantages do Excel spreadsheets have over CSV spreadsheets?**"
      ],
      "metadata": {
        "id": "t3mVjNb5k5uq"
      }
    },
    {
      "cell_type": "markdown",
      "source": [
        "**Data Formatting**: Excel spreadsheets offer a variety of data formatting options that are not available in CSV files. This includes the ability to apply styles, colors, and conditional formatting to cells, making it easier to visualize and analyze data.\n",
        "\n",
        "**Formulas and Functions:** Excel spreadsheets have a wide range of built-in formulas and functions that can be used to perform calculations and manipulate data. This makes it easier to perform complex data analysis and modeling tasks.\n",
        "\n",
        "**Charts and Graphs:** Excel spreadsheets have built-in charting and graphing capabilities, allowing users to easily create visual representations of their data. This can be useful for presenting data in a clear and concise way.\n",
        "\n",
        "-----\n",
        "\n",
        "\n",
        "Excel spreadsheets can be used to store and manipulate large amounts of data.\n",
        "\n",
        "Excel spreadsheets are compatible with a wide range of software applications.\n",
        "\n",
        "Excel spreadsheets are relatively easy to use, even for users with limited technical skills."
      ],
      "metadata": {
        "id": "o-Wz-Mlzk5ky"
      }
    },
    {
      "cell_type": "markdown",
      "source": [
        "### **2.What do you pass to csv.reader() and csv.writer() to create reader and writer objects?**"
      ],
      "metadata": {
        "id": "EtTzcDj7k5ay"
      }
    },
    {
      "source": [
        "import csv\n",
        "\n",
        "# Create a reader object from a file object\n",
        "with open('data.csv', 'r') as file:\n",
        "    reader = csv.reader(file)\n",
        "\n",
        "# Create a reader object from an iterable\n",
        "data = ['1,2,3', '4,5,6']\n",
        "reader = csv.reader(data)"
      ],
      "cell_type": "code",
      "metadata": {
        "id": "R3PHnO-Tn0RO"
      },
      "execution_count": null,
      "outputs": []
    },
    {
      "source": [
        "# Create a writer object from a file object\n",
        "with open('data.csv', 'w') as file:\n",
        "    writer = csv.writer(file)\n",
        "\n",
        "# Create a writer object from an iterable\n",
        "data = []\n",
        "writer.writerows(data)"
      ],
      "cell_type": "code",
      "metadata": {
        "id": "NVVF3QG9n3VM"
      },
      "execution_count": null,
      "outputs": []
    },
    {
      "cell_type": "markdown",
      "source": [
        "### **3. What modes do File objects for reader and writer objects need to be opened in?**"
      ],
      "metadata": {
        "id": "r7f4EjLvk5Hz"
      }
    },
    {
      "cell_type": "markdown",
      "source": [
        "If the file does not exist, the 'w' mode will create a new file.\n",
        "\n",
        "If the file already exists, the 'w' mode will overwrite the existing data.\n",
        "\n",
        "If you want to append data to an existing file, you can use the 'a' mode."
      ],
      "metadata": {
        "id": "Hf9tkwgqqXH3"
      }
    },
    {
      "cell_type": "code",
      "source": [],
      "metadata": {
        "id": "mh4PaluXqSxJ"
      },
      "execution_count": null,
      "outputs": []
    },
    {
      "source": [
        "# Create a new file with  write modwe(\"w\")\n",
        "with open('data.csv', 'w') as file:\n",
        "    writer = csv.writer(file)"
      ],
      "cell_type": "code",
      "metadata": {
        "id": "QrQKu1kYqgpB"
      },
      "execution_count": null,
      "outputs": []
    },
    {
      "cell_type": "code",
      "source": [
        "# For already exist a file open in read mode(\"r\")\n",
        "with open('data.csv', 'r') as file:\n",
        "    writer = csv.writer(file)"
      ],
      "metadata": {
        "id": "nnPQsCA2qtNQ"
      },
      "execution_count": null,
      "outputs": []
    },
    {
      "cell_type": "code",
      "source": [
        "# For already exist a file we will use for append data using (\"a\")\n",
        "with open('data.csv', 'a') as file:\n",
        "    writer = csv.writer(file)"
      ],
      "metadata": {
        "id": "M54aSglYq_zv"
      },
      "execution_count": null,
      "outputs": []
    },
    {
      "cell_type": "markdown",
      "source": [
        "### **4. What method takes a list argument and writes it to a CSV file?**"
      ],
      "metadata": {
        "id": "CJuI9ghWrT5n"
      }
    },
    {
      "source": [
        "import csv\n",
        "\n",
        "# Create a list of data\n",
        "data = [['1', '2', '3'], ['4', '5', '6']]\n",
        "\n",
        "# Open a file in write mode\n",
        "with open('data.csv', 'w') as file:\n",
        "    writer = csv.writer(file)\n",
        "\n",
        "    # Write the data to the CSV file\n",
        "    writer.writerows(data)"
      ],
      "cell_type": "code",
      "metadata": {
        "id": "lsFmsR-fs0yj"
      },
      "execution_count": null,
      "outputs": []
    },
    {
      "cell_type": "markdown",
      "source": [
        "### **5. What do the keyword arguments delimiter and line terminator do?**"
      ],
      "metadata": {
        "id": "Xw2rQ1pgk5Ei"
      }
    },
    {
      "cell_type": "code",
      "source": [
        "# The delimiter keyword argument specifies the character that separates the fields in a CSV file.\n",
        "# By default, the delimiter is a comma (',').\n",
        "\n",
        "import csv\n",
        "\n",
        "# Create a CSV file with a semicolon as the delimiter\n",
        "with open('data.csv', 'w') as file:\n",
        "    writer = csv.writer(file, delimiter=',') # CSV delimiter is a comma (',')\n",
        "    writer.writerow(['1', '2', '3'])\n",
        "\n"
      ],
      "metadata": {
        "id": "5RTQ_WBGtiDi"
      },
      "execution_count": null,
      "outputs": []
    },
    {
      "cell_type": "code",
      "source": [
        "# Open a file in read mode\n",
        "with open('data.csv', 'r') as file:\n",
        "    reader = csv.reader(file)\n",
        "\n",
        "    # read the data to the CSV file\n",
        "    for row in reader:\n",
        "        print(row)\n",
        "\n"
      ],
      "metadata": {
        "colab": {
          "base_uri": "https://localhost:8080/"
        },
        "id": "dg8yb11NvT1Q",
        "outputId": "8bb34010-4a55-4d84-a124-0198827130c1"
      },
      "execution_count": null,
      "outputs": [
        {
          "output_type": "stream",
          "name": "stdout",
          "text": [
            "['1', '2', '3']\n"
          ]
        }
      ]
    },
    {
      "cell_type": "code",
      "source": [
        "# The lineterminator keyword argument specifies the character that separates the rows in a CSV file.\n",
        "# By default, the line terminator is a newline character ('\\n').\n",
        "\n",
        "import csv\n",
        "\n",
        "# Create a CSV file with a carriage return as the line terminator\n",
        "with open('data1.csv', 'w') as file:\n",
        "    writer = csv.writer(file, lineterminator='\\r')\n",
        "    writer.writerow(['1', '2', '3'])"
      ],
      "metadata": {
        "id": "DwszLQ2NuZhK"
      },
      "execution_count": null,
      "outputs": []
    },
    {
      "cell_type": "markdown",
      "source": [
        "### **6. What function takes a string of JSON data and returns a Python data structure?**"
      ],
      "metadata": {
        "id": "qH86N270x-x3"
      }
    },
    {
      "cell_type": "code",
      "source": [],
      "metadata": {
        "id": "L-Dawe71wbid"
      },
      "execution_count": null,
      "outputs": []
    },
    {
      "source": [
        "import json\n",
        "\n",
        "json_string = '{\"name\": \"Lokesh\", \"age\": 25}'\n",
        "\n",
        "python_data = json.loads(json_string)\n",
        "\n",
        "print(python_data)"
      ],
      "cell_type": "code",
      "metadata": {
        "colab": {
          "base_uri": "https://localhost:8080/"
        },
        "id": "HHp-0jnzyHLa",
        "outputId": "6ba2c259-425d-4857-edb7-53fbf92049ef"
      },
      "execution_count": null,
      "outputs": [
        {
          "output_type": "stream",
          "name": "stdout",
          "text": [
            "{'name': 'Lokesh', 'age': 25}\n"
          ]
        }
      ]
    },
    {
      "cell_type": "markdown",
      "source": [
        "### **7. What function takes a Python data structure and returns a string of JSON data?**"
      ],
      "metadata": {
        "id": "gL2uz0MUyei6"
      }
    },
    {
      "cell_type": "code",
      "source": [
        "import json\n",
        "\n",
        "python_data = {\"name\": \"Lokesh\", \"age\": 25}\n",
        "\n",
        "json_string = json.dumps(python_data)\n",
        "\n",
        "print(json_string)"
      ],
      "metadata": {
        "colab": {
          "base_uri": "https://localhost:8080/"
        },
        "id": "721WTgZqygaZ",
        "outputId": "4ac46c54-8ab1-45de-abf6-f11471fc51c8"
      },
      "execution_count": null,
      "outputs": [
        {
          "output_type": "stream",
          "name": "stdout",
          "text": [
            "{\"name\": \"Lokesh\", \"age\": 25}\n"
          ]
        }
      ]
    },
    {
      "cell_type": "markdown",
      "source": [
        "## **Thank you**"
      ],
      "metadata": {
        "id": "zd7dZmOly2tY"
      }
    }
  ]
}