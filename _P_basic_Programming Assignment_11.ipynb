{
 "cells": [
  {
   "cell_type": "markdown",
   "id": "061d12ef",
   "metadata": {},
   "source": [
    "# P_basic_Programming Assignment_11"
   ]
  },
  {
   "cell_type": "markdown",
   "id": "5b4681d0",
   "metadata": {},
   "source": [
    "# 1. Write a Python program to find words which are greater than given length k?\n"
   ]
  },
  {
   "cell_type": "code",
   "execution_count": 36,
   "id": "b128e5ca",
   "metadata": {},
   "outputs": [],
   "source": [
    "def find_greater_len_than_k(words,k):\n",
    "    return[ word for word in words if len(word) > k]"
   ]
  },
  {
   "cell_type": "code",
   "execution_count": 37,
   "id": "3fa16a24",
   "metadata": {},
   "outputs": [
    {
     "name": "stdout",
     "output_type": "stream",
     "text": [
      "words greater than given length 5 : ['jupyter', 'Univarse', 'Solar_Family']\n"
     ]
    }
   ],
   "source": [
    "words = ['jupyter','mars','Earth','Univarse','Solar_Family']\n",
    "k=5\n",
    "result = find_greater_len_than_k(words,k)\n",
    "print(f\"words greater than given length {k} :\",result)"
   ]
  },
  {
   "cell_type": "code",
   "execution_count": 38,
   "id": "1753f551",
   "metadata": {},
   "outputs": [
    {
     "data": {
      "text/plain": [
       "['jupyter', 'Univarse', 'Solar_Family']"
      ]
     },
     "execution_count": 38,
     "metadata": {},
     "output_type": "execute_result"
    }
   ],
   "source": [
    "find_greater_len_than_k(words,k)"
   ]
  },
  {
   "cell_type": "markdown",
   "id": "5f1e073a",
   "metadata": {},
   "source": [
    "# 2. Write a Python program for removing i-th character from a string?\n"
   ]
  },
  {
   "cell_type": "code",
   "execution_count": null,
   "id": "8fc00118",
   "metadata": {},
   "outputs": [],
   "source": []
  },
  {
   "cell_type": "code",
   "execution_count": 42,
   "id": "89b71c5a",
   "metadata": {},
   "outputs": [],
   "source": [
    "def Remove_char(string,i):\n",
    "    if 0 <= i < len(string):\n",
    "        return string[:i] +string[i+1:]\n",
    "    else:\n",
    "        return \"Invalid index\"\n",
    "    "
   ]
  },
  {
   "cell_type": "code",
   "execution_count": 46,
   "id": "861b33f4",
   "metadata": {},
   "outputs": [
    {
     "name": "stdout",
     "output_type": "stream",
     "text": [
      "Before Remove I_th Charecter : \t  Coding is Eassy\n",
      "Afert Remove I_th Charecter : \t Codng is Eassy\n"
     ]
    }
   ],
   "source": [
    "string = \"Coding is Eassy\"\n",
    "i = 3\n",
    "result = Remove_char(string,i)\n",
    "\n",
    "print(\"Before Remove I_th Charecter : \\t \",string)\n",
    "print(\"Afert Remove I_th Charecter : \\t\",result)"
   ]
  },
  {
   "cell_type": "markdown",
   "id": "3cd27e60",
   "metadata": {},
   "source": [
    "# 3. Write a Python program to split and join a string?\n"
   ]
  },
  {
   "cell_type": "code",
   "execution_count": 54,
   "id": "974df3ad",
   "metadata": {},
   "outputs": [
    {
     "name": "stdout",
     "output_type": "stream",
     "text": [
      "Spliting this \t ***this_is_code_for_spliting*** \t to words : \t ['this', 'is', 'code', 'for', 'spliting']\n",
      "joining words \t ***['this', 'is', 'code', 'for', 'spliting']*** \t to form a Sentance : \t this is code for spliting\n"
     ]
    }
   ],
   "source": [
    "# for spliting a string\n",
    "\n",
    "string = \"this_is_code_for_spliting\"\n",
    "words = string.split(\"_\")\n",
    "\n",
    "# words to join and make a string \n",
    "new_string = \" \".join(words)\n",
    "\n",
    "print(f\"Spliting this \\t ***{string}*** \\t to words : \\t\",words)\n",
    "print(f\"joining words \\t ***{words}*** \\t to form a Sentance : \\t\",new_string)"
   ]
  },
  {
   "cell_type": "markdown",
   "id": "54d2f2fe",
   "metadata": {},
   "source": [
    "# 4. Write a Python to check if a given string is binary string or not?\n"
   ]
  },
  {
   "cell_type": "code",
   "execution_count": 56,
   "id": "4a971bc0",
   "metadata": {},
   "outputs": [],
   "source": [
    "def is_binary(str):\n",
    "    return all(bit in '01' for bit in str)"
   ]
  },
  {
   "cell_type": "code",
   "execution_count": 58,
   "id": "2c9beecb",
   "metadata": {},
   "outputs": [
    {
     "name": "stdout",
     "output_type": "stream",
     "text": [
      "binary string or not is not a binary string\n"
     ]
    }
   ],
   "source": [
    "string=\"binary string or not\"\n",
    "result = is_binary(string)\n",
    "if result :\n",
    "    print(f\"{string} is a binary string\")\n",
    "else:\n",
    "    print(f\"{string} is not a binary string\")\n"
   ]
  },
  {
   "cell_type": "code",
   "execution_count": 59,
   "id": "bc02de94",
   "metadata": {},
   "outputs": [
    {
     "name": "stdout",
     "output_type": "stream",
     "text": [
      "000101 is a binary string\n"
     ]
    }
   ],
   "source": [
    "string =\"000101\"\n",
    "result = is_binary(string)\n",
    "if result :\n",
    "    print(f\"{string} is a binary string\")\n",
    "else:\n",
    "    print(f\"{string} is not a binary string\")\n"
   ]
  },
  {
   "cell_type": "markdown",
   "id": "bd2a82a6",
   "metadata": {},
   "source": [
    "# 5. Write a Python program to find uncommon words from two Strings?\n"
   ]
  },
  {
   "cell_type": "code",
   "execution_count": 1,
   "id": "d6fa652e",
   "metadata": {},
   "outputs": [],
   "source": [
    "def uncommon_words(string1,string2):\n",
    "    word1 = set(string1.split())\n",
    "    word2 = set(string2.split())\n",
    "    results = word1.symmetric_difference(word2)\n",
    "    return list(results)"
   ]
  },
  {
   "cell_type": "code",
   "execution_count": 4,
   "id": "d6e9d663",
   "metadata": {},
   "outputs": [
    {
     "name": "stdout",
     "output_type": "stream",
     "text": [
      "['about', 'skill', 'Hello', 'i', 'dear', 'all', 'make', 'concentraction', 'respected', 'request', 'and', 'to', 'Its', 'practice', 'tutor', 'your', 'good', 'student', 'yes,']\n"
     ]
    }
   ],
   "source": [
    "person1 = \"Hello respected tutor i request to make my skill good \"\n",
    "person2 = \" yes, my dear student Its all about your concentraction and your practice \"\n",
    "\n",
    "print(uncommon_words(person1,person2))"
   ]
  },
  {
   "cell_type": "code",
   "execution_count": 5,
   "id": "48e39260",
   "metadata": {},
   "outputs": [
    {
     "name": "stdout",
     "output_type": "stream",
     "text": [
      "['a', 'not']\n"
     ]
    }
   ],
   "source": [
    "a = ' this is uncommon word'\n",
    "b = 'this is not a uncommon word'\n",
    "\n",
    "print(uncommon_words(a,b))"
   ]
  },
  {
   "cell_type": "markdown",
   "id": "69fa8c2d",
   "metadata": {},
   "source": [
    "# 6. Write a Python to find all duplicate characters in string?\n"
   ]
  },
  {
   "cell_type": "code",
   "execution_count": 7,
   "id": "6af4deec",
   "metadata": {},
   "outputs": [],
   "source": [
    "def duplicats_in_string(string):\n",
    "    words = string.split()\n",
    "    seen = set()\n",
    "    duplicates = set()\n",
    "    for word in words:\n",
    "        if word in seen:\n",
    "            duplicates.add(word)\n",
    "        else:\n",
    "            seen.add(word)\n",
    "            \n",
    "    return list(duplicates)"
   ]
  },
  {
   "cell_type": "code",
   "execution_count": 8,
   "id": "2efc6b2f",
   "metadata": {},
   "outputs": [
    {
     "data": {
      "text/plain": [
       "['your']"
      ]
     },
     "execution_count": 8,
     "metadata": {},
     "output_type": "execute_result"
    }
   ],
   "source": [
    "person = \" yes, my dear student Its all about your concentraction and your practice \"\n",
    "\n",
    "duplicats_in_string(person)"
   ]
  },
  {
   "cell_type": "markdown",
   "id": "76774257",
   "metadata": {},
   "source": [
    "\n",
    "# 7. Write a Python Program to check if a string contains any special character?"
   ]
  },
  {
   "cell_type": "code",
   "execution_count": 13,
   "id": "698d6a5b",
   "metadata": {},
   "outputs": [],
   "source": [
    "import re\n",
    "def contain_special_char(string):\n",
    "    specl_chr_pattern=re.compile(r'[a-zA-Z0-9\\s]')\n",
    "    return bool(specl_chr_pattern.search(string))"
   ]
  },
  {
   "cell_type": "code",
   "execution_count": 14,
   "id": "26d2640d",
   "metadata": {},
   "outputs": [
    {
     "data": {
      "text/plain": [
       "True"
      ]
     },
     "execution_count": 14,
     "metadata": {},
     "output_type": "execute_result"
    }
   ],
   "source": [
    "person = \" yes, my dear student Its all about your ***concentraction*** and your practice \"\n",
    "contain_special_char(person)"
   ]
  }
 ],
 "metadata": {
  "kernelspec": {
   "display_name": "Python 3 (ipykernel)",
   "language": "python",
   "name": "python3"
  },
  "language_info": {
   "codemirror_mode": {
    "name": "ipython",
    "version": 3
   },
   "file_extension": ".py",
   "mimetype": "text/x-python",
   "name": "python",
   "nbconvert_exporter": "python",
   "pygments_lexer": "ipython3",
   "version": "3.9.13"
  }
 },
 "nbformat": 4,
 "nbformat_minor": 5
}
