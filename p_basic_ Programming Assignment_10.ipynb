{
 "cells": [
  {
   "cell_type": "markdown",
   "id": "c7250058",
   "metadata": {},
   "source": [
    "# p_basic_ Programming Assignment_10"
   ]
  },
  {
   "cell_type": "markdown",
   "id": "37215097",
   "metadata": {},
   "source": [
    "\n",
    "# 1. Write a Python program to find sum of elements in list?"
   ]
  },
  {
   "cell_type": "code",
   "execution_count": 10,
   "id": "e1fa8261",
   "metadata": {},
   "outputs": [],
   "source": [
    "def sum_list(lis):\n",
    "    return(sum(lis))\n",
    "    "
   ]
  },
  {
   "cell_type": "code",
   "execution_count": 22,
   "id": "58778791",
   "metadata": {},
   "outputs": [
    {
     "name": "stdout",
     "output_type": "stream",
     "text": [
      "[3, 77, 99, 65, 1]  sum of list: **245**\n"
     ]
    }
   ],
   "source": [
    "list = [3,77,99,65,1]\n",
    "\n",
    "print(list,f' sum of list: **{sum_list(list)}**')"
   ]
  },
  {
   "cell_type": "markdown",
   "id": "e3244d04",
   "metadata": {},
   "source": [
    "# 2. Write a Python program to Multiply all numbers in the list?"
   ]
  },
  {
   "cell_type": "code",
   "execution_count": 24,
   "id": "4759235e",
   "metadata": {},
   "outputs": [],
   "source": [
    "def product_list(lis):\n",
    "    for nums in list:\n",
    "        nums=nums*nums\n",
    "    return(nums)"
   ]
  },
  {
   "cell_type": "code",
   "execution_count": 25,
   "id": "7f00a903",
   "metadata": {},
   "outputs": [
    {
     "data": {
      "text/plain": [
       "1"
      ]
     },
     "execution_count": 25,
     "metadata": {},
     "output_type": "execute_result"
    }
   ],
   "source": [
    "product_list(list)"
   ]
  },
  {
   "cell_type": "markdown",
   "id": "daf236c4",
   "metadata": {},
   "source": [
    "# 3. Write a Python program to find smallest number in a list?"
   ]
  },
  {
   "cell_type": "code",
   "execution_count": 30,
   "id": "2f68dcfc",
   "metadata": {},
   "outputs": [],
   "source": [
    "def min_num(lis):\n",
    "    return(sorted(lis)[0])"
   ]
  },
  {
   "cell_type": "code",
   "execution_count": 31,
   "id": "b1d01d9f",
   "metadata": {},
   "outputs": [
    {
     "data": {
      "text/plain": [
       "1"
      ]
     },
     "execution_count": 31,
     "metadata": {},
     "output_type": "execute_result"
    }
   ],
   "source": [
    "min_num(list)"
   ]
  },
  {
   "cell_type": "markdown",
   "id": "93124d66",
   "metadata": {},
   "source": [
    "# 4. Write a Python program to find largest number in a list?"
   ]
  },
  {
   "cell_type": "code",
   "execution_count": 32,
   "id": "0c3f429d",
   "metadata": {},
   "outputs": [],
   "source": [
    "def max_num(lis):\n",
    "    return(sorted(lis)[-1])"
   ]
  },
  {
   "cell_type": "code",
   "execution_count": 33,
   "id": "2c534fbb",
   "metadata": {},
   "outputs": [
    {
     "data": {
      "text/plain": [
       "99"
      ]
     },
     "execution_count": 33,
     "metadata": {},
     "output_type": "execute_result"
    }
   ],
   "source": [
    "max_num(list)"
   ]
  },
  {
   "cell_type": "markdown",
   "id": "f51f2a86",
   "metadata": {},
   "source": [
    "# 5. Write a Python program to find second largest number in a list?"
   ]
  },
  {
   "cell_type": "code",
   "execution_count": 40,
   "id": "2012bc42",
   "metadata": {},
   "outputs": [],
   "source": [
    "def secound_lrg_num(lis):\n",
    "    return('The secound largest number in the given list is : ', sorted(lis)[-2])"
   ]
  },
  {
   "cell_type": "code",
   "execution_count": 41,
   "id": "a8710d6e",
   "metadata": {},
   "outputs": [
    {
     "data": {
      "text/plain": [
       "('The secound largest number in the given list is : ', 77)"
      ]
     },
     "execution_count": 41,
     "metadata": {},
     "output_type": "execute_result"
    }
   ],
   "source": [
    "secound_lrg_num([2,77,9,88,6])"
   ]
  },
  {
   "cell_type": "markdown",
   "id": "189cb145",
   "metadata": {},
   "source": [
    "# 6. Write a Python program to find N largest elements from a list?"
   ]
  },
  {
   "cell_type": "code",
   "execution_count": 46,
   "id": "6f8ee855",
   "metadata": {},
   "outputs": [],
   "source": [
    "def find_n_largest_elements(lst, n):\n",
    "    return sorted(lst, reverse=True)[:n]"
   ]
  },
  {
   "cell_type": "code",
   "execution_count": 47,
   "id": "b8176a1c",
   "metadata": {},
   "outputs": [
    {
     "name": "stdout",
     "output_type": "stream",
     "text": [
      "3 largest elements in the list: [10, 8, 7]\n"
     ]
    }
   ],
   "source": [
    "my_list = [5, 2, 8, 1, 3, 10, 7]\n",
    "n = 3\n",
    "result = find_n_largest_elements(my_list, n)\n",
    "print(f\"{n} largest elements in the list:\", result)"
   ]
  },
  {
   "cell_type": "markdown",
   "id": "3df96ba4",
   "metadata": {},
   "source": [
    "# 7. Write a Python program to print even numbers in a list?"
   ]
  },
  {
   "cell_type": "code",
   "execution_count": 59,
   "id": "6f0ca1f1",
   "metadata": {},
   "outputs": [],
   "source": [
    "def print_even_nums(lst):\n",
    "    even_nums = [evnum for evnum in lst if evnum % 2 == 0]\n",
    "    return even_nums"
   ]
  },
  {
   "cell_type": "code",
   "execution_count": 60,
   "id": "3376cef4",
   "metadata": {},
   "outputs": [
    {
     "name": "stdout",
     "output_type": "stream",
     "text": [
      "Even numbers in the list: [2, 4, 6, 8, 10]\n"
     ]
    }
   ],
   "source": [
    "my_list = [1, 2, 3, 4, 5, 6, 7, 8, 9, 10]\n",
    "result = print_even_nums(my_list)\n",
    "print(\"Even numbers in the list:\", result)"
   ]
  },
  {
   "cell_type": "markdown",
   "id": "64f88b92",
   "metadata": {},
   "source": [
    "# 8. Write a Python program to print odd numbers in a List?"
   ]
  },
  {
   "cell_type": "code",
   "execution_count": 63,
   "id": "ff2c254b",
   "metadata": {},
   "outputs": [],
   "source": [
    "def print_odd_nums(lst):\n",
    "    result = [odd_num for odd_num in lst if odd_num % 2!=0 ]\n",
    "    return result"
   ]
  },
  {
   "cell_type": "code",
   "execution_count": 64,
   "id": "01e31acb",
   "metadata": {},
   "outputs": [
    {
     "name": "stdout",
     "output_type": "stream",
     "text": [
      "odd numbers in the list: [1, 3, 5, 7, 9]\n"
     ]
    }
   ],
   "source": [
    "my_list = [1, 2, 3, 4, 5, 6, 7, 8, 9, 10]\n",
    "result = print_odd_nums(my_list)\n",
    "print(\"odd numbers in the list:\", result)"
   ]
  },
  {
   "cell_type": "markdown",
   "id": "752b13ec",
   "metadata": {},
   "source": [
    "# 9. Write a Python program to Remove empty List from List?\n"
   ]
  },
  {
   "cell_type": "code",
   "execution_count": 65,
   "id": "3c64fa6d",
   "metadata": {},
   "outputs": [],
   "source": [
    "def remove_empty_lists(lst):\n",
    "    return [sublist for sublist in lst if sublist]"
   ]
  },
  {
   "cell_type": "code",
   "execution_count": 66,
   "id": "c1fd5e74",
   "metadata": {},
   "outputs": [
    {
     "name": "stdout",
     "output_type": "stream",
     "text": [
      "List after removing empty lists: [1, 2, 3, 4, 5, 6]\n"
     ]
    }
   ],
   "source": [
    "my_list = [1, 2, [], 3, [], 4, 5, [], 6]\n",
    "result = remove_empty_lists(my_list)\n",
    "print(\"List after removing empty lists:\", result)"
   ]
  },
  {
   "cell_type": "markdown",
   "id": "60d825f2",
   "metadata": {},
   "source": [
    "# 10. Write a Python program to Cloning or Copying a list?\n"
   ]
  },
  {
   "cell_type": "code",
   "execution_count": 67,
   "id": "85c6a172",
   "metadata": {},
   "outputs": [],
   "source": [
    "def clone_list(lst):\n",
    "    return lst.copy()"
   ]
  },
  {
   "cell_type": "code",
   "execution_count": 68,
   "id": "7d098ffa",
   "metadata": {},
   "outputs": [
    {
     "name": "stdout",
     "output_type": "stream",
     "text": [
      "Original List: [1, 2, 3, 4, 5]\n",
      "Cloned List: [1, 2, 3, 4, 5]\n"
     ]
    }
   ],
   "source": [
    "original_list = [1, 2, 3, 4, 5]\n",
    "cloned_list = clone_list(original_list)\n",
    "print(\"Original List:\", original_list)\n",
    "print(\"Cloned List:\", cloned_list)"
   ]
  },
  {
   "cell_type": "markdown",
   "id": "f839d797",
   "metadata": {},
   "source": [
    "# 11. Write a Python program to Count occurrences of an element in a list?"
   ]
  },
  {
   "cell_type": "code",
   "execution_count": 69,
   "id": "53df35f2",
   "metadata": {},
   "outputs": [],
   "source": [
    "def count_occurrences(lst, element):\n",
    "    return lst.count(element)"
   ]
  },
  {
   "cell_type": "code",
   "execution_count": 72,
   "id": "03092584",
   "metadata": {},
   "outputs": [
    {
     "name": "stdout",
     "output_type": "stream",
     "text": [
      "Occurrences of 6 in the list: 1\n"
     ]
    }
   ],
   "source": [
    "my_list = [1, 2, 3, 4, 2, 5, 2, 6]\n",
    "element_to_count = 6\n",
    "result = count_occurrences(my_list, element_to_count)\n",
    "print(f\"Occurrences of {element_to_count} in the list:\", result)"
   ]
  },
  {
   "cell_type": "code",
   "execution_count": null,
   "id": "4bd7cdbb",
   "metadata": {},
   "outputs": [],
   "source": []
  }
 ],
 "metadata": {
  "kernelspec": {
   "display_name": "Python 3 (ipykernel)",
   "language": "python",
   "name": "python3"
  },
  "language_info": {
   "codemirror_mode": {
    "name": "ipython",
    "version": 3
   },
   "file_extension": ".py",
   "mimetype": "text/x-python",
   "name": "python",
   "nbconvert_exporter": "python",
   "pygments_lexer": "ipython3",
   "version": "3.9.13"
  }
 },
 "nbformat": 4,
 "nbformat_minor": 5
}
