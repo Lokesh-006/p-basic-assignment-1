{
 "cells": [
  {
   "cell_type": "markdown",
   "metadata": {},
   "source": [
    "# 1. In the below elements which of them are values or an expression? \n",
    "eg:- values can be integer or string and expressions will be mathematical operators.\n",
    "    * \n",
    "    'hello'\n",
    "    -87.8\n",
    "    - \n",
    "    / \n",
    "     +\n",
    "\n",
    "    6 \n"
   ]
  },
  {
   "cell_type": "markdown",
   "metadata": {},
   "source": [
    "# Ans: \n",
    "\n",
    "       \" * , - , / , + \" are the expressions of Arithmetic operators.\n",
    "       \" * \" is an Multiplication operation\n",
    "       \" - \" is an Subtraction Operation\n",
    "       \" / \" is an Division Operation\n",
    "       \" + \" is an addition Operation\n",
    "\n",
    "        'hello' is an string value the (Strings in python are surrounded by either single quotation marks, or double quotation marks) \n",
    "       -87.8 value of negitive float() number\n",
    "\n",
    "        6 value of possitive int() number\n"
   ]
  },
  {
   "cell_type": "code",
   "execution_count": null,
   "metadata": {},
   "outputs": [],
   "source": []
  },
  {
   "cell_type": "markdown",
   "metadata": {},
   "source": [
    "# 2. What is the difference between string and variable?\n"
   ]
  },
  {
   "cell_type": "markdown",
   "metadata": {},
   "source": [
    "# Ans:\n",
    "\n",
    "     String: \n",
    "             The value in side the quote assigned to a string .Strings in python are surrounded by either single quotation marks,double quotation marks.\n",
    "           'my name is loki' is the same as \"my name is loki\"\n",
    "         \n",
    "           \n",
    "    Variable: \n",
    "            A variable is basically the name of the location in the primary memory of your computer. A variable can store everything from strings to numbers.\n",
    "            x = \" this is my 1st Assignment \"\n",
    "            variable is X and Value is \" this is my 1st Assignment\""
   ]
  },
  {
   "cell_type": "markdown",
   "metadata": {},
   "source": [
    "# 3. Describe three different data types."
   ]
  },
  {
   "cell_type": "markdown",
   "metadata": {},
   "source": [
    "# Ans:\n",
    "\n",
    "    while we  need to find out the type of data uses type() function () in these brases we put the values numbers\n",
    "    \n",
    "    \n",
    "        Boolean Type:\tbool True , False are boolean values \n",
    "                    the true ,false logic functions are uses these Data type .\n",
    "                    \n",
    "        Text Type:\tstr:\n",
    "                       The value in side the quote assigned to a string .Strings in python are surrounded by either single\n",
    "                   quotation marks,double quotation marks.\n",
    "                                           'my name is loki' is the same as \"my name is loki\"\n",
    "       \n",
    "        Numeric Types:\tint, float, complex\n",
    "                    data type int() is an intiger numbers if we specified any full lenth intiger value it will give  \n",
    "                    < class int>\n",
    "                    \n",
    "                    data type float() is an decimal number if we put 10.0 as in type(10.0) that shows <class float>\n",
    "                    \n",
    "                    Data type complex() is an combination of real and imaginary number like (10+6j).\n",
    "                    if we checked type(10+6) that shows < class complex>\n",
    "                    "
   ]
  },
  {
   "cell_type": "code",
   "execution_count": 12,
   "metadata": {},
   "outputs": [
    {
     "name": "stdout",
     "output_type": "stream",
     "text": [
      "<class 'bool'>\n",
      "<class 'bool'>\n",
      "<class 'str'>\n",
      "<class 'int'>\n",
      "<class 'float'>\n",
      "<class 'complex'>\n"
     ]
    }
   ],
   "source": [
    "print(type(True))\n",
    "print(type(False))\n",
    "print(type(\"lokesh\"))\n",
    "print(type(10))\n",
    "print(type(10.0))\n",
    "print(type(10+6j))"
   ]
  },
  {
   "cell_type": "markdown",
   "metadata": {},
   "source": [
    "# 4. What is an expression made up of? What do all expressions do?"
   ]
  },
  {
   "cell_type": "markdown",
   "metadata": {},
   "source": [
    "# Ans:\n",
    "            Expression is made by combination of values, variables, operators, and calls to functionss like print()\n",
    "            eg.x=10 * \"lokesh\",y= 10+2/2*1\n",
    "            \n",
    "            What dose expression do that find the results of output by what the information was provided by \n",
    "            user,if we call print expression\n",
    "          "
   ]
  },
  {
   "cell_type": "code",
   "execution_count": 22,
   "metadata": {},
   "outputs": [
    {
     "name": "stdout",
     "output_type": "stream",
     "text": [
      "lokeshlokeshlokeshlokeshlokeshlokeshlokeshlokeshlokeshlokesh\n",
      "11.0\n",
      "<class 'str'>\n",
      "<class 'float'>\n"
     ]
    }
   ],
   "source": [
    "x=10*\"lokesh\"\n",
    "print(x)\n",
    "\n",
    "y= 10+2/2*1\n",
    "print(y)\n",
    "\n",
    "print(type(x))\n",
    "\n",
    "print(type(y))"
   ]
  },
  {
   "cell_type": "markdown",
   "metadata": {},
   "source": [
    "# 5. This assignment statements, like spam = 10. What is the difference between an expression and a statement?"
   ]
  },
  {
   "cell_type": "markdown",
   "metadata": {},
   "source": [
    "# Ans:\n",
    "    Assignent statements:\n",
    "                    creats an new variable and assigns the value ,x= str it is an assignment statement next y = int value,\n",
    "                    next z = pi value 3.14\n",
    "                    \n",
    "                    like spam = 10 is an statement of assignment \n",
    "                    \n",
    "                    if the expression is combination of values, variables, operators, and calls to functions.\n",
    "                    \n",
    "                    x = spam*20+spam is an expression\n",
    "                    "
   ]
  },
  {
   "cell_type": "code",
   "execution_count": 23,
   "metadata": {},
   "outputs": [
    {
     "name": "stdout",
     "output_type": "stream",
     "text": [
      "100.0\n"
     ]
    }
   ],
   "source": [
    "spam = 10 # is an Assignment statement\n",
    "\n",
    "x = spam * spam * spam /spam # is an expression \n",
    "\n",
    "print(x) #results of expression"
   ]
  },
  {
   "cell_type": "markdown",
   "metadata": {},
   "source": [
    "# 6. After running the following code, what does the variable bacon contain?\n",
    "    bacon = 22\n",
    "\n",
    "\n",
    "    bacon + 1\n"
   ]
  },
  {
   "cell_type": "markdown",
   "metadata": {},
   "source": [
    "# Ans:\n",
    "        After running :\n",
    "                        bacon = 22\n",
    "                        \n",
    "                        bacon + 1\n",
    "                        \n",
    "                        the variable bacon contains the updated value which is equal to bacon + 1 \n",
    "                        is 23(22 + 1)"
   ]
  },
  {
   "cell_type": "code",
   "execution_count": 24,
   "metadata": {},
   "outputs": [
    {
     "data": {
      "text/plain": [
       "23"
      ]
     },
     "execution_count": 24,
     "metadata": {},
     "output_type": "execute_result"
    }
   ],
   "source": [
    "bacon = 22\n",
    "bacon + 1"
   ]
  },
  {
   "cell_type": "markdown",
   "metadata": {},
   "source": [
    "# 7. What should the values of the following two terms be?\n",
    "    'spam' + 'spamspam'\n",
    "    'spam' * 3\n"
   ]
  },
  {
   "cell_type": "markdown",
   "metadata": {},
   "source": [
    "# Ans:\n",
    "     The value of two terms\n",
    "                        'spam' + 'spamspam'\n",
    "        \n",
    "                        'spam' * 3\n",
    "                 both are equal to each other \n",
    "                 "
   ]
  },
  {
   "cell_type": "code",
   "execution_count": 25,
   "metadata": {},
   "outputs": [
    {
     "name": "stdout",
     "output_type": "stream",
     "text": [
      "spamspamspam\n",
      "spamspamspam\n"
     ]
    }
   ],
   "source": [
    "print('spam' + 'spamspam')\n",
    "\n",
    "print('spam' * 3)"
   ]
  },
  {
   "cell_type": "markdown",
   "metadata": {},
   "source": [
    "# 8. Why is eggs a valid variable name while 100 is invalid?"
   ]
  },
  {
   "cell_type": "markdown",
   "metadata": {},
   "source": [
    "# Ans:\n",
    "            Variable names can be as long as you like. They can contain both letters and numbers, but they can’t begin with \n",
    "            a number.so 100 is an invalid variable name like eggs,\n",
    "            \n",
    "            if we  will give 100 as a variable name that python compailer not accepts the number values without latters"
   ]
  },
  {
   "cell_type": "code",
   "execution_count": 32,
   "metadata": {},
   "outputs": [
    {
     "name": "stdout",
     "output_type": "stream",
     "text": [
      "60\n"
     ]
    }
   ],
   "source": [
    "eggs = 60\n",
    "print(eggs)"
   ]
  },
  {
   "cell_type": "markdown",
   "metadata": {},
   "source": [
    "# 9. What three functions can be used to get the integer, floating-point number, or string version of a value?"
   ]
  },
  {
   "cell_type": "code",
   "execution_count": 33,
   "metadata": {},
   "outputs": [
    {
     "data": {
      "text/plain": [
       "0"
      ]
     },
     "execution_count": 33,
     "metadata": {},
     "output_type": "execute_result"
    }
   ],
   "source": [
    "int()"
   ]
  },
  {
   "cell_type": "code",
   "execution_count": 34,
   "metadata": {},
   "outputs": [
    {
     "data": {
      "text/plain": [
       "0.0"
      ]
     },
     "execution_count": 34,
     "metadata": {},
     "output_type": "execute_result"
    }
   ],
   "source": [
    "float()"
   ]
  },
  {
   "cell_type": "code",
   "execution_count": 35,
   "metadata": {},
   "outputs": [
    {
     "data": {
      "text/plain": [
       "''"
      ]
     },
     "execution_count": 35,
     "metadata": {},
     "output_type": "execute_result"
    }
   ],
   "source": [
    "str()"
   ]
  },
  {
   "cell_type": "markdown",
   "metadata": {},
   "source": [
    "# 10. Why does this expression cause an error? How can you fix it?\n",
    "'I have eaten ' + 99 + ' burritos.'\n"
   ]
  },
  {
   "cell_type": "markdown",
   "metadata": {},
   "source": [
    "# ans:\n",
    "    'I have eaten ' + 99 + ' burritos.' definently these expression cause type error becuse the string values can do\n",
    "    only operation of multiplication operation with int value.but not with the number + str +str.\n",
    "    \n",
    "    for these expression 'I have eaten ' + 99 + ' burritos.' replace the number 99 to ' 99 'then it will error free\n",
    "    expression"
   ]
  },
  {
   "cell_type": "code",
   "execution_count": 37,
   "metadata": {},
   "outputs": [
    {
     "data": {
      "text/plain": [
       "'I have eaten  99  burritos.'"
      ]
     },
     "execution_count": 37,
     "metadata": {},
     "output_type": "execute_result"
    }
   ],
   "source": [
    "'I have eaten ' +' 99 ' + ' burritos.'"
   ]
  },
  {
   "cell_type": "markdown",
   "metadata": {},
   "source": [
    "                                        # ***Thank you ***"
   ]
  }
 ],
 "metadata": {
  "kernelspec": {
   "display_name": "Python 3",
   "language": "python",
   "name": "python3"
  },
  "language_info": {
   "codemirror_mode": {
    "name": "ipython",
    "version": 3
   },
   "file_extension": ".py",
   "mimetype": "text/x-python",
   "name": "python",
   "nbconvert_exporter": "python",
   "pygments_lexer": "ipython3",
   "version": "3.8.5"
  }
 },
 "nbformat": 4,
 "nbformat_minor": 4
}
