{
  "nbformat": 4,
  "nbformat_minor": 0,
  "metadata": {
    "colab": {
      "provenance": [],
      "include_colab_link": true
    },
    "kernelspec": {
      "name": "python3",
      "display_name": "Python 3"
    },
    "language_info": {
      "name": "python"
    }
  },
  "cells": [
    {
      "cell_type": "markdown",
      "metadata": {
        "id": "view-in-github",
        "colab_type": "text"
      },
      "source": [
        "<a href=\"https://colab.research.google.com/github/Lokesh-006/p-basic-assignment-1/blob/main/python_basic_assignment__11.ipynb\" target=\"_parent\"><img src=\"https://colab.research.google.com/assets/colab-badge.svg\" alt=\"Open In Colab\"/></a>"
      ]
    },
    {
      "cell_type": "markdown",
      "source": [
        "# **python_basic assignment _11**\n",
        "\n",
        "\n"
      ],
      "metadata": {
        "id": "uzWgu1D3k8Id"
      }
    },
    {
      "cell_type": "markdown",
      "source": [
        "### **1. Create an assert statement that throws an AssertionError if the variable spam is a negative integer.**"
      ],
      "metadata": {
        "id": "jNNHemxnmUxj"
      }
    },
    {
      "cell_type": "code",
      "source": [
        "spam = int(input('Ënter an Integer'))\n",
        "assert spam >= 0,\"value should be a possitive Integer\""
      ],
      "metadata": {
        "colab": {
          "base_uri": "https://localhost:8080/",
          "height": 210
        },
        "id": "nEl1ZzzPmPfU",
        "outputId": "995dc12b-6da3-44b0-cfd6-2058c75db39e"
      },
      "execution_count": null,
      "outputs": [
        {
          "name": "stdout",
          "output_type": "stream",
          "text": [
            "Ënter an Integer-25\n"
          ]
        },
        {
          "output_type": "error",
          "ename": "AssertionError",
          "evalue": "value should be a possitive Integer",
          "traceback": [
            "\u001b[0;31m---------------------------------------------------------------------------\u001b[0m",
            "\u001b[0;31mAssertionError\u001b[0m                            Traceback (most recent call last)",
            "\u001b[0;32m<ipython-input-1-01ed4b71623c>\u001b[0m in \u001b[0;36m<cell line: 2>\u001b[0;34m()\u001b[0m\n\u001b[1;32m      1\u001b[0m \u001b[0mspam\u001b[0m \u001b[0;34m=\u001b[0m \u001b[0mint\u001b[0m\u001b[0;34m(\u001b[0m\u001b[0minput\u001b[0m\u001b[0;34m(\u001b[0m\u001b[0;34m'Ënter an Integer'\u001b[0m\u001b[0;34m)\u001b[0m\u001b[0;34m)\u001b[0m\u001b[0;34m\u001b[0m\u001b[0;34m\u001b[0m\u001b[0m\n\u001b[0;32m----> 2\u001b[0;31m \u001b[0;32massert\u001b[0m \u001b[0mspam\u001b[0m \u001b[0;34m>=\u001b[0m \u001b[0;36m0\u001b[0m\u001b[0;34m,\u001b[0m\u001b[0;34m\"value should be a possitive Integer\"\u001b[0m\u001b[0;34m\u001b[0m\u001b[0;34m\u001b[0m\u001b[0m\n\u001b[0m",
            "\u001b[0;31mAssertionError\u001b[0m: value should be a possitive Integer"
          ]
        }
      ]
    },
    {
      "cell_type": "code",
      "source": [
        "spam = int(input('Ënter an Integer'))\n",
        "assert spam >= 0,\"value should be a possitive Integer\""
      ],
      "metadata": {
        "colab": {
          "base_uri": "https://localhost:8080/"
        },
        "id": "vbNmC4nzm26m",
        "outputId": "8d8eb87b-f56c-4f9f-d1d5-4d5194d2261e"
      },
      "execution_count": null,
      "outputs": [
        {
          "name": "stdout",
          "output_type": "stream",
          "text": [
            "Ënter an Integer25\n"
          ]
        }
      ]
    },
    {
      "cell_type": "markdown",
      "source": [
        "### **2. Write an assert statement that triggers an AssertionError if the variables eggs and bacon contain strings that are the same as each other, even if their cases are different (that is, 'hello' and 'hello' are considered the same, and 'goodbye' and 'GOODbye' are also considered the same).**\n",
        "\n",
        "\n"
      ],
      "metadata": {
        "id": "54Y4D-rvnGGb"
      }
    },
    {
      "cell_type": "code",
      "source": [
        "eggs = 'hello'\n",
        "bacon = \"hello\"\n",
        "\n",
        "assert eggs == bacon , \"both values are similers just check the quoats\""
      ],
      "metadata": {
        "id": "7m5exKNAnBZb"
      },
      "execution_count": null,
      "outputs": []
    },
    {
      "cell_type": "code",
      "source": [
        "eggs = 'goodbye'\n",
        "\n",
        "bacon = 'GOODbye'\n",
        "# The Strings are different cases so this statement should raise a AssertionError.\n",
        "assert eggs == bacon , \"The strings are similers just check the cases\""
      ],
      "metadata": {
        "colab": {
          "base_uri": "https://localhost:8080/",
          "height": 210
        },
        "id": "HtYZ0oJtnrui",
        "outputId": "d38898d8-956e-47a3-ae74-5174e8b12065"
      },
      "execution_count": null,
      "outputs": [
        {
          "output_type": "error",
          "ename": "AssertionError",
          "evalue": "The strings are similers just check the cases",
          "traceback": [
            "\u001b[0;31m---------------------------------------------------------------------------\u001b[0m",
            "\u001b[0;31mAssertionError\u001b[0m                            Traceback (most recent call last)",
            "\u001b[0;32m<ipython-input-28-9f2cb866ddb5>\u001b[0m in \u001b[0;36m<cell line: 5>\u001b[0;34m()\u001b[0m\n\u001b[1;32m      3\u001b[0m \u001b[0mbacon\u001b[0m \u001b[0;34m=\u001b[0m \u001b[0;34m'GOODbye'\u001b[0m\u001b[0;34m\u001b[0m\u001b[0;34m\u001b[0m\u001b[0m\n\u001b[1;32m      4\u001b[0m \u001b[0;31m# The Strings are different cases so this statement should raise a AssertionError.\u001b[0m\u001b[0;34m\u001b[0m\u001b[0;34m\u001b[0m\u001b[0m\n\u001b[0;32m----> 5\u001b[0;31m \u001b[0;32massert\u001b[0m \u001b[0meggs\u001b[0m \u001b[0;34m==\u001b[0m \u001b[0mbacon\u001b[0m \u001b[0;34m,\u001b[0m \u001b[0;34m\"The strings are similers just check the cases\"\u001b[0m\u001b[0;34m\u001b[0m\u001b[0;34m\u001b[0m\u001b[0m\n\u001b[0m",
            "\u001b[0;31mAssertionError\u001b[0m: The strings are similers just check the cases"
          ]
        }
      ]
    },
    {
      "cell_type": "code",
      "source": [
        "# Converted all cases to lower case now the statement should not raise any erorr.\n",
        "assert eggs.lower() == bacon.lower() , \"The strings are similers just check the cases\""
      ],
      "metadata": {
        "id": "2376CUw7p5-1"
      },
      "execution_count": null,
      "outputs": []
    },
    {
      "cell_type": "markdown",
      "source": [
        "Created a functuin to check the variables eggs,bacon"
      ],
      "metadata": {
        "id": "plOOeY_yrZ4e"
      }
    },
    {
      "cell_type": "code",
      "source": [
        "def check_same_strings(eggs, bacon):\n",
        "  assert eggs.lower() != bacon.lower(), \"The strings are the same even if their cases are different.\"\n",
        "\n"
      ],
      "metadata": {
        "id": "oTIX8-apoFTT"
      },
      "execution_count": null,
      "outputs": []
    },
    {
      "cell_type": "code",
      "source": [
        "check_same_strings('goodbye', 'GOODbye')  # This should raise an AssertionError"
      ],
      "metadata": {
        "colab": {
          "base_uri": "https://localhost:8080/",
          "height": 262
        },
        "id": "gjZGOphzo6AG",
        "outputId": "af77ed3d-aeaf-4f37-d51a-82150a22ea4d"
      },
      "execution_count": null,
      "outputs": [
        {
          "output_type": "error",
          "ename": "AssertionError",
          "evalue": "The strings are the same even if their cases are different.",
          "traceback": [
            "\u001b[0;31m---------------------------------------------------------------------------\u001b[0m",
            "\u001b[0;31mAssertionError\u001b[0m                            Traceback (most recent call last)",
            "\u001b[0;32m<ipython-input-31-9ae1c6c0a4e4>\u001b[0m in \u001b[0;36m<cell line: 1>\u001b[0;34m()\u001b[0m\n\u001b[0;32m----> 1\u001b[0;31m \u001b[0mcheck_same_strings\u001b[0m\u001b[0;34m(\u001b[0m\u001b[0;34m'goodbye'\u001b[0m\u001b[0;34m,\u001b[0m \u001b[0;34m'GOODbye'\u001b[0m\u001b[0;34m)\u001b[0m  \u001b[0;31m# This should raise an AssertionError\u001b[0m\u001b[0;34m\u001b[0m\u001b[0;34m\u001b[0m\u001b[0m\n\u001b[0m",
            "\u001b[0;32m<ipython-input-30-7e867aec2a0b>\u001b[0m in \u001b[0;36mcheck_same_strings\u001b[0;34m(eggs, bacon)\u001b[0m\n\u001b[1;32m      1\u001b[0m \u001b[0;32mdef\u001b[0m \u001b[0mcheck_same_strings\u001b[0m\u001b[0;34m(\u001b[0m\u001b[0meggs\u001b[0m\u001b[0;34m,\u001b[0m \u001b[0mbacon\u001b[0m\u001b[0;34m)\u001b[0m\u001b[0;34m:\u001b[0m\u001b[0;34m\u001b[0m\u001b[0;34m\u001b[0m\u001b[0m\n\u001b[0;32m----> 2\u001b[0;31m   \u001b[0;32massert\u001b[0m \u001b[0meggs\u001b[0m\u001b[0;34m.\u001b[0m\u001b[0mlower\u001b[0m\u001b[0;34m(\u001b[0m\u001b[0;34m)\u001b[0m \u001b[0;34m!=\u001b[0m \u001b[0mbacon\u001b[0m\u001b[0;34m.\u001b[0m\u001b[0mlower\u001b[0m\u001b[0;34m(\u001b[0m\u001b[0;34m)\u001b[0m\u001b[0;34m,\u001b[0m \u001b[0;34m\"The strings are the same even if their cases are different.\"\u001b[0m\u001b[0;34m\u001b[0m\u001b[0;34m\u001b[0m\u001b[0m\n\u001b[0m\u001b[1;32m      3\u001b[0m \u001b[0;34m\u001b[0m\u001b[0m\n",
            "\u001b[0;31mAssertionError\u001b[0m: The strings are the same even if their cases are different."
          ]
        }
      ]
    },
    {
      "cell_type": "markdown",
      "source": [
        "### **3. Create an assert statement that throws an AssertionError every time.**"
      ],
      "metadata": {
        "id": "75I_f5KXsCgz"
      }
    },
    {
      "cell_type": "code",
      "source": [
        "assert False, \"An AssertionError is always raised\""
      ],
      "metadata": {
        "colab": {
          "base_uri": "https://localhost:8080/",
          "height": 175
        },
        "id": "rpXkFDhwqSY0",
        "outputId": "f9425fe9-08ed-49fc-f155-47c11adfabda"
      },
      "execution_count": null,
      "outputs": [
        {
          "output_type": "error",
          "ename": "AssertionError",
          "evalue": "An AssertionError is always raised",
          "traceback": [
            "\u001b[0;31m---------------------------------------------------------------------------\u001b[0m",
            "\u001b[0;31mAssertionError\u001b[0m                            Traceback (most recent call last)",
            "\u001b[0;32m<ipython-input-32-f0a6cf518c97>\u001b[0m in \u001b[0;36m<cell line: 1>\u001b[0;34m()\u001b[0m\n\u001b[0;32m----> 1\u001b[0;31m \u001b[0;32massert\u001b[0m \u001b[0;32mFalse\u001b[0m\u001b[0;34m,\u001b[0m \u001b[0;34m\"An AssertionError is always raised\"\u001b[0m\u001b[0;34m\u001b[0m\u001b[0;34m\u001b[0m\u001b[0m\n\u001b[0m",
            "\u001b[0;31mAssertionError\u001b[0m: An AssertionError is always raised"
          ]
        }
      ]
    },
    {
      "cell_type": "code",
      "source": [
        "assert 1==0,\"An AssertionError is always raised\""
      ],
      "metadata": {
        "colab": {
          "base_uri": "https://localhost:8080/",
          "height": 175
        },
        "id": "0V19g7tHsCOT",
        "outputId": "5977fd4a-f2b0-4859-a6ea-e7c4d12de8a2"
      },
      "execution_count": null,
      "outputs": [
        {
          "output_type": "error",
          "ename": "AssertionError",
          "evalue": "An AssertionError is always raised",
          "traceback": [
            "\u001b[0;31m---------------------------------------------------------------------------\u001b[0m",
            "\u001b[0;31mAssertionError\u001b[0m                            Traceback (most recent call last)",
            "\u001b[0;32m<ipython-input-34-766f876f5b8a>\u001b[0m in \u001b[0;36m<cell line: 1>\u001b[0;34m()\u001b[0m\n\u001b[0;32m----> 1\u001b[0;31m \u001b[0;32massert\u001b[0m \u001b[0;36m1\u001b[0m\u001b[0;34m==\u001b[0m\u001b[0;36m0\u001b[0m\u001b[0;34m,\u001b[0m\u001b[0;34m\"An AssertionError is always raised\"\u001b[0m\u001b[0;34m\u001b[0m\u001b[0;34m\u001b[0m\u001b[0m\n\u001b[0m",
            "\u001b[0;31mAssertionError\u001b[0m: An AssertionError is always raised"
          ]
        }
      ]
    },
    {
      "cell_type": "code",
      "source": [
        "assert \"a\" == \"a\" ,\"An AssertionError is always raised\""
      ],
      "metadata": {
        "id": "l0xCYlM7sizz"
      },
      "execution_count": null,
      "outputs": []
    },
    {
      "cell_type": "markdown",
      "source": [
        "### **4. What are the two lines that must be present in your software in order to call logging.debug()?**"
      ],
      "metadata": {
        "id": "71eK5rCCtYqJ"
      }
    },
    {
      "cell_type": "code",
      "source": [
        "import logging\n",
        "\n",
        "# Enable logging\n",
        "logging.basicConfig(level=logging.DEBUG)"
      ],
      "metadata": {
        "id": "_eHqGij3tQnh"
      },
      "execution_count": null,
      "outputs": []
    },
    {
      "cell_type": "markdown",
      "source": [
        "1. **import logging:** This line imports the logging module, which provides\n",
        "functionalities for logging messages.\n",
        "\n",
        "2. **logging.basicConfig(level=logging.DEBUG):** This line configures the basic logging configuration and sets the logging level to DEBUG. This enables all logging messages with a level of DEBUG or higher to be logged."
      ],
      "metadata": {
        "id": "r3P_pxuztnGY"
      }
    },
    {
      "cell_type": "markdown",
      "source": [
        "### **5. What are the two lines that your program must have in order to have logging.debug() send a logging message to a file named programLog.txt?**"
      ],
      "metadata": {
        "id": "MPqaobqeuDOO"
      }
    },
    {
      "cell_type": "code",
      "source": [
        "import logging\n",
        "\n",
        "# Congigure a logger file\n",
        "logging.basicConfig(filename='programLog.txt',level=logging.DEBUG)"
      ],
      "metadata": {
        "id": "sxv0tD0KtiaY"
      },
      "execution_count": null,
      "outputs": []
    },
    {
      "cell_type": "markdown",
      "source": [
        "### **6. What are the five levels of logging?**"
      ],
      "metadata": {
        "id": "lxGUvkvkuuhL"
      }
    },
    {
      "cell_type": "markdown",
      "source": [
        "1. **DEBUG**: Detailed information, typically of interest only when diagnosing problems.\n",
        "2. **INFO**: Confirmation that things are working as expected.\n",
        "3. **WARNING**: An indication that something unexpected happened, or indicative of some problem in the near future. (The software is still working as expected.)\n",
        "4. **ERROR**: Due to a more serious problem, the software has not been able to perform some function.\n",
        "5. **CRITICA**L: A serious error, indicating that the program itself may be unable to continue running."
      ],
      "metadata": {
        "id": "4CNfL2D_u0iJ"
      }
    },
    {
      "source": [
        "import logging\n",
        "\n",
        "# Configure the logging format\n",
        "logging.basicConfig(format='%(levelname)s: %(message)s')\n",
        "\n",
        "\n",
        "logging.debug('This is a debug message')\n",
        "logging.info('This is an informational message')\n",
        "logging.warning('This is a warning message')\n",
        "logging.error('This is an error message')\n",
        "logging.critical('This is a critical message')"
      ],
      "cell_type": "code",
      "metadata": {
        "colab": {
          "base_uri": "https://localhost:8080/"
        },
        "id": "6JyKwL_UvT3E",
        "outputId": "350bdcd2-3047-4a8c-8f88-c56a6e6d8976"
      },
      "execution_count": null,
      "outputs": [
        {
          "output_type": "stream",
          "name": "stderr",
          "text": [
            "WARNING:root:This is a warning message\n",
            "ERROR:root:This is an error message\n",
            "CRITICAL:root:This is a critical message\n"
          ]
        }
      ]
    },
    {
      "cell_type": "markdown",
      "source": [
        "### **7. What line of code would you add to your software to disable all logging messages?**"
      ],
      "metadata": {
        "id": "t0AuGqJrvmmk"
      }
    },
    {
      "cell_type": "code",
      "source": [
        "logging.disable(logging.CRITICAL)"
      ],
      "metadata": {
        "id": "0LEe4H0uveuk"
      },
      "execution_count": null,
      "outputs": []
    },
    {
      "cell_type": "markdown",
      "source": [
        "### **8.Why is using logging messages better than using print() to display the same message?**"
      ],
      "metadata": {
        "id": "csuFmBAEwB0c"
      }
    },
    {
      "cell_type": "markdown",
      "source": [
        "Using logging messages is better than using print() to display the same message for several reasons:\n",
        "\n",
        "1. **Flexibility**: Logging messages can be easily configured to be sent to different destinations, such as the console, a file, or a database. print()statements, on the other hand, only output to the console.\n",
        "2. **Levels**: Logging messages allow you to specify the severity level of the message, which can be useful for filtering and troubleshooting. print() statements do not have this capability.\n",
        "3. **Formatting**: Logging messages can be formatted to include additional information, such as the timestamp, the module name, and the line number where the message was generated. print() statements only output the message itself.\n",
        "4. **Disabling**: Logging messages can be easily disabled or enabled, either globally or for specific modules. print() statements cannot be disabled without commenting them out or using more complex techniques."
      ],
      "metadata": {
        "id": "wSD1pOan3Oys"
      }
    },
    {
      "cell_type": "markdown",
      "source": [
        "### **9. What are the differences between the Step Over, Step In, and Step Out buttons in the debugger?**"
      ],
      "metadata": {
        "id": "VwpLUUoH4MKV"
      }
    },
    {
      "cell_type": "markdown",
      "source": [
        "1. **Step Over**: The Step Over button executes the current line of code and moves to the next line without stepping into any functions that are called on that line.\n",
        "\n",
        "2. **Step In**: The Step In button executes the current line of code and then steps into any functions that are called on that line. This allows you to debug the internal workings of those functions.\n",
        "\n",
        "3. **Step Out:** The Step Out button exits the current function and returns to the line of code that called it. This is useful for quickly moving out of nested functions or loops."
      ],
      "metadata": {
        "id": "JW0uKBxx4X1D"
      }
    },
    {
      "cell_type": "markdown",
      "source": [
        "\n",
        "**Step Over**\tExecutes the current line and moves to the next line.\n",
        "\n",
        "**Step In**\tExecutes the current line and steps into any functions called on that line.\n",
        "\n",
        "**Step Out** Exits the current function and returns to the line that called it."
      ],
      "metadata": {
        "id": "0rD3d3TH4Xsq"
      }
    },
    {
      "cell_type": "markdown",
      "source": [
        "### **10.After you click Continue, when will the debugger stop ?**"
      ],
      "metadata": {
        "id": "HHq-00XJ5LrD"
      }
    },
    {
      "cell_type": "markdown",
      "source": [
        "The debugger will stop at any point where the program's execution is interrupted or changed. This allows you to inspect the state of the program at these points and debug any issues.\n",
        "\n",
        "\n",
        "The following situations:\n",
        "\n",
        "1. When a breakpoint is encountered.\n",
        "2. When an exception occurs.\n",
        "3. When the program terminates.\n"
      ],
      "metadata": {
        "id": "8lUybUYO5Vbf"
      }
    },
    {
      "cell_type": "markdown",
      "source": [
        "\n",
        "### **11. What is the concept of a breakpoint?**"
      ],
      "metadata": {
        "id": "b-2Wt_XZldfp"
      }
    },
    {
      "cell_type": "markdown",
      "source": [
        "A breakpoint is a marker in our code that tells the debugger to stop execution at that point. This allows us to inspect the state of the program at that point and debug any issues.\n",
        "\n",
        "\n",
        "Breakpoints can be set on specific lines of code, or they can be set on specific functions or methods. When the debugger reaches a breakpoint, it will pause execution and allow us to examine the values of variables, step through the code line by line, or continue execution.\n",
        "\n",
        "\n",
        "Breakpoints are an essential tool for debugging software. They allow us to quickly and easily identify the source of problems in our code.\n"
      ],
      "metadata": {
        "id": "acGmLHwq6HZg"
      }
    },
    {
      "cell_type": "markdown",
      "source": [
        "\n",
        "\n",
        "\n",
        "\n",
        "\n",
        "\n",
        "\n",
        "\n",
        "\n",
        "\n",
        "\n",
        "\n",
        "# Thank You"
      ],
      "metadata": {
        "id": "7jJ7NJde60tm"
      }
    }
  ]
}