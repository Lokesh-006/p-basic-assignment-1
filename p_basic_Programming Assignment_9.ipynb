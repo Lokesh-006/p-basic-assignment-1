{
 "cells": [
  {
   "cell_type": "markdown",
   "id": "70d0a868",
   "metadata": {},
   "source": [
    "1. Write a Python program to check if the given number is a Disarium Number?\n",
    "2. Write a Python program to print all disarium numbers between 1 to 100?\n",
    "3. Write a Python program to check if the given number is Happy Number?\n",
    "4. Write a Python program to print all happy numbers between 1 and 100?\n",
    "5. Write a Python program to determine whether the given number is a Harshad Number?\n",
    "6. Write a Python program to print all pronic numbers between 1 and 100?"
   ]
  },
  {
   "cell_type": "markdown",
   "id": "f911590e",
   "metadata": {},
   "source": [
    "# 1.Write a Python program to check if the given number is a Disarium Number?"
   ]
  },
  {
   "cell_type": "code",
   "execution_count": 8,
   "id": "16669872",
   "metadata": {},
   "outputs": [
    {
     "name": "stdout",
     "output_type": "stream",
     "text": [
      "Enter a number to check if it's a Disarium Number: 10\n",
      "10 is not a Disarium Number.\n"
     ]
    }
   ],
   "source": [
    "def is_disarium_number(number):\n",
    "    # Convert the number to a string to iterate through its digits\n",
    "    num_str = str(number)\n",
    "    \n",
    "    # Calculate the sum of each digit raised to its respective position\n",
    "    digit_sum = sum(int(digit) ** (index + 1) for index, digit in enumerate(num_str))\n",
    "    \n",
    "    # Check if the sum is equal to the original number\n",
    "    return digit_sum == number\n",
    "\n",
    "# Example usage:\n",
    "input_number = int(input(\"Enter a number to check if it's a Disarium Number: \"))\n",
    "\n",
    "if is_disarium_number(input_number):\n",
    "    print(f\"{input_number} is a Disarium Number.\")\n",
    "else:\n",
    "    print(f\"{input_number} is not a Disarium Number.\")\n",
    "    "
   ]
  },
  {
   "cell_type": "markdown",
   "id": "072c34b9",
   "metadata": {},
   "source": [
    "# 2. Write a Python program to print all disarium numbers between 1 to 100?\n"
   ]
  },
  {
   "cell_type": "code",
   "execution_count": 13,
   "id": "525e3026",
   "metadata": {},
   "outputs": [
    {
     "name": "stdout",
     "output_type": "stream",
     "text": [
      "Disarium numbers between 1 and 100: [1, 2, 3, 4, 5, 6, 7, 8, 9, 89]\n"
     ]
    }
   ],
   "source": [
    "disarium_numbers = [num for num in range(1, 101) if is_disarium_number(num)]\n",
    "\n",
    "print(\"Disarium numbers between 1 and 100:\", disarium_numbers)"
   ]
  },
  {
   "cell_type": "markdown",
   "id": "4530ee37",
   "metadata": {},
   "source": [
    "\n",
    "# 3. Write a Python program to check if the given number is Happy Number?\n"
   ]
  },
  {
   "cell_type": "code",
   "execution_count": 16,
   "id": "fb052296",
   "metadata": {},
   "outputs": [
    {
     "name": "stdout",
     "output_type": "stream",
     "text": [
      "Enter a number to check if it's a Happy Number: 69\n",
      "69 is not a Happy Number.\n"
     ]
    }
   ],
   "source": [
    "def is_happy_number(number):\n",
    "    seen = set()\n",
    "    while number != 1 and number not in seen:\n",
    "        seen.add(number)\n",
    "        number = sum(int(digit) ** 2 for digit in str(number))\n",
    "    return number == 1\n",
    "\n",
    "# Example usage:\n",
    "input_number = int(input(\"Enter a number to check if it's a Happy Number: \"))\n",
    "\n",
    "if is_happy_number(input_number):\n",
    "    print(f\"{input_number} is a Happy Number.\")\n",
    "else:\n",
    "    print(f\"{input_number} is not a Happy Number.\")\n"
   ]
  },
  {
   "cell_type": "markdown",
   "id": "a2289c67",
   "metadata": {},
   "source": [
    " # 4. Write a Python program to print all happy numbers between 1 and 100?\n"
   ]
  },
  {
   "cell_type": "code",
   "execution_count": 17,
   "id": "7f367d43",
   "metadata": {},
   "outputs": [
    {
     "name": "stdout",
     "output_type": "stream",
     "text": [
      "happy_numbers between 1 and 100: [1, 7, 10, 13, 19, 23, 28, 31, 32, 44, 49, 68, 70, 79, 82, 86, 91, 94, 97, 100]\n"
     ]
    }
   ],
   "source": [
    "hpy_num = [num for num in range(1,101) if is_happy_number(num)]\n",
    "\n",
    "print(f\"happy_numbers between 1 and 100: {hpy_num}\")"
   ]
  },
  {
   "cell_type": "markdown",
   "id": "4b610a3a",
   "metadata": {},
   "source": [
    "# 5. Write a Python program to determine whether the given number is a Harshad Number?\n"
   ]
  },
  {
   "cell_type": "code",
   "execution_count": 27,
   "id": "d592d0f7",
   "metadata": {},
   "outputs": [
    {
     "name": "stdout",
     "output_type": "stream",
     "text": [
      "Enter a number to check if it's a Harshad Number: 1670\n",
      "1670 is not a Harshad Number.\n"
     ]
    }
   ],
   "source": [
    "def is_harshad_number(number):\n",
    "    return number % sum(int(digit) for digit in str(number)) == 0\n",
    "\n",
    "# Example usage:\n",
    "input_number = int(input(\"Enter a number to check if it's a Harshad Number: \"))\n",
    "\n",
    "if is_harshad_number(input_number):\n",
    "    print(f\"{input_number} is a Harshad Number.\")\n",
    "else:\n",
    "    print(f\"{input_number} is not a Harshad Number.\")\n",
    "    \n"
   ]
  },
  {
   "cell_type": "markdown",
   "id": "eec5c15d",
   "metadata": {},
   "source": [
    "# 6. Write a Python program to print all pronic numbers between 1 and 100?"
   ]
  },
  {
   "cell_type": "code",
   "execution_count": 38,
   "id": "2489273c",
   "metadata": {},
   "outputs": [
    {
     "name": "stdout",
     "output_type": "stream",
     "text": [
      "Pronic numbers between 1 and 100: [2, 6, 12, 20, 30, 42, 56, 72, 90]\n"
     ]
    }
   ],
   "source": [
    "def is_pronic_number(number):\n",
    "    for i in range(int(number**0.5) + 1):\n",
    "        if i * (i + 1) == number:\n",
    "            return True\n",
    "    return False\n",
    "\n",
    "pronic_numbers = [num for num in range(1, 101) if is_pronic_number(num)]\n",
    "\n",
    "print(\"Pronic numbers between 1 and 100:\", pronic_numbers)\n"
   ]
  },
  {
   "cell_type": "code",
   "execution_count": null,
   "id": "d5d1bbb9",
   "metadata": {},
   "outputs": [],
   "source": []
  },
  {
   "cell_type": "code",
   "execution_count": null,
   "id": "1cde6e95",
   "metadata": {},
   "outputs": [],
   "source": [
    "\n"
   ]
  },
  {
   "cell_type": "code",
   "execution_count": null,
   "id": "b062412e",
   "metadata": {},
   "outputs": [],
   "source": []
  },
  {
   "cell_type": "code",
   "execution_count": null,
   "id": "96a5cf75",
   "metadata": {},
   "outputs": [],
   "source": []
  }
 ],
 "metadata": {
  "kernelspec": {
   "display_name": "Python 3 (ipykernel)",
   "language": "python",
   "name": "python3"
  },
  "language_info": {
   "codemirror_mode": {
    "name": "ipython",
    "version": 3
   },
   "file_extension": ".py",
   "mimetype": "text/x-python",
   "name": "python",
   "nbconvert_exporter": "python",
   "pygments_lexer": "ipython3",
   "version": "3.9.13"
  }
 },
 "nbformat": 4,
 "nbformat_minor": 5
}
