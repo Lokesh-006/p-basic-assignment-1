{
 "cells": [
  {
   "cell_type": "markdown",
   "id": "ed8da5a0",
   "metadata": {},
   "source": [
    "# Programming Assignment_8"
   ]
  },
  {
   "cell_type": "code",
   "execution_count": null,
   "id": "577fceda",
   "metadata": {},
   "outputs": [],
   "source": []
  },
  {
   "cell_type": "code",
   "execution_count": null,
   "id": "6f20c5f0",
   "metadata": {},
   "outputs": [],
   "source": []
  },
  {
   "cell_type": "markdown",
   "id": "846085a4",
   "metadata": {},
   "source": [
    "1. Write a Python Program to Add Two Matrices?\n",
    "2. Write a Python Program to Multiply Two Matrices?\n",
    "3. Write a Python Program to Transpose a Matrix?\n",
    "4. Write a Python Program to Sort Words in Alphabetic Order?\n",
    "5. Write a Python Program to Remove Punctuation From a String?"
   ]
  },
  {
   "cell_type": "markdown",
   "id": "37107cd5",
   "metadata": {},
   "source": [
    "# 1. Write a Python Program to Add Two Matrices?"
   ]
  },
  {
   "cell_type": "code",
   "execution_count": 70,
   "id": "77d1bea8",
   "metadata": {},
   "outputs": [
    {
     "name": "stdout",
     "output_type": "stream",
     "text": [
      "Matrix A:\n",
      "[1, 2, 3]\n",
      "[4, 5, 6]\n",
      "[7, 8, 9]\n",
      "\n",
      "Matrix B:\n",
      "[9, 8, 7]\n",
      "[6, 5, 4]\n",
      "[3, 2, 1]\n",
      "\n",
      "Sum of Matrices:\n",
      "[10, 10, 10]\n",
      "[10, 10, 10]\n",
      "[10, 10, 10]\n"
     ]
    }
   ],
   "source": [
    "\n",
    "\n",
    "def add_matrices(matrix1, matrix2):\n",
    "    if len(matrix1) != len(matrix2) or len(matrix1[0]) != len(matrix2[0]):\n",
    "        raise ValueError(\"Matrices must have the same dimensions for addition\")\n",
    "    \n",
    "    result_matrix = [[matrix1[i][j] + matrix2[i][j] for j in range(len(matrix1[0]))] for i in range(len(matrix1))]\n",
    "    \n",
    "    return result_matrix\n",
    "\n",
    "# Example usage:\n",
    "matrix_a = [\n",
    "    [1, 2, 3],\n",
    "    [4, 5, 6],\n",
    "    [7, 8, 9]\n",
    "]\n",
    "\n",
    "matrix_b = [\n",
    "    [9, 8, 7],\n",
    "    [6, 5, 4],\n",
    "    [3, 2, 1]\n",
    "]\n",
    "\n",
    "result = add_matrices(matrix_a, matrix_b)\n",
    "print(\"Matrix A:\")\n",
    "for row in matrix_a:\n",
    "    print(row)\n",
    "\n",
    "print(\"\\nMatrix B:\")\n",
    "for row in matrix_b:\n",
    "    print(row)\n",
    "\n",
    "print(\"\\nSum of Matrices:\")\n",
    "for row in result:\n",
    "    print(row)\n"
   ]
  },
  {
   "cell_type": "markdown",
   "id": "bd554e06",
   "metadata": {},
   "source": [
    " # 2 Write a Python Program to Multiply Two Matrices?"
   ]
  },
  {
   "cell_type": "code",
   "execution_count": 51,
   "id": "d59e16a8",
   "metadata": {},
   "outputs": [],
   "source": [
    "\n",
    "    \n",
    "def Multiply_matrix(matrix1,matrix2):\n",
    "    if len(matrix1[0]) != len(matrix2):\n",
    "        raise ValueError(\"Given matrices not follwing Multipication rules\")\n",
    "        \n",
    "    result_matrix =[[0 for _ in range(len(matrix2[0]))]for _ in range(len(matrix1))]\n",
    "    for mat1_row in range(len(matrix1)):\n",
    "        for mat2_cols in range(len(matrix2[0])):\n",
    "            for mat_elem in range(len(matrix2)):\n",
    "                result_matrix += matrix1[mat1_row][mat_elem]*matrix2[mat_elem][mat2_cols]\n",
    "  \n",
    "\n"
   ]
  },
  {
   "cell_type": "code",
   "execution_count": 52,
   "id": "6ed29b9b",
   "metadata": {},
   "outputs": [],
   "source": []
  },
  {
   "cell_type": "code",
   "execution_count": 53,
   "id": "3f7606f8",
   "metadata": {},
   "outputs": [
    {
     "name": "stdout",
     "output_type": "stream",
     "text": [
      "Matrix A:\n",
      "[1, 2, 3]\n",
      "[4, 5, 6]\n",
      "[7, 8, 9]\n",
      "\n",
      "Matrix B:\n",
      "[9, 8, 7]\n",
      "[6, 5, 4]\n",
      "[3, 2, 1]\n",
      "\n",
      "Product of Matrices:\n",
      "[30, 24, 18]\n",
      "[84, 69, 54]\n",
      "[138, 114, 90]\n"
     ]
    }
   ],
   "source": [
    "# Example usage:\n",
    "matrix_a = [\n",
    "    [1, 2, 3],\n",
    "    [4, 5, 6],\n",
    "    [7, 8, 9]\n",
    "]\n",
    "\n",
    "matrix_b = [\n",
    "    [9, 8, 7],\n",
    "    [6, 5, 4],\n",
    "    [3, 2, 1]\n",
    "]\n",
    "\n",
    "result = multiply_matrices(matrix_a, matrix_b)\n",
    "print(\"Matrix A:\")\n",
    "for row in matrix_a:\n",
    "    print(row)\n",
    "\n",
    "print(\"\\nMatrix B:\")\n",
    "for row in matrix_b:\n",
    "    print(row)\n",
    "\n",
    "print(\"\\nProduct of Matrices:\")\n",
    "for row in result:\n",
    "    print(row)"
   ]
  },
  {
   "cell_type": "markdown",
   "id": "8bb4d060",
   "metadata": {},
   "source": [
    "# 3. Write a Python Program to Transpose a Matrix?\n"
   ]
  },
  {
   "cell_type": "code",
   "execution_count": 10,
   "id": "b1dd857b",
   "metadata": {},
   "outputs": [
    {
     "name": "stdout",
     "output_type": "stream",
     "text": [
      "Original Matrix:\n",
      "[1, 2, 3]\n",
      "[4, 5, 6]\n",
      "[7, 8, 9]\n",
      "\n",
      "Transposed Matrix:\n",
      "[1, 4, 7]\n",
      "[2, 5, 8]\n",
      "[3, 6, 9]\n"
     ]
    }
   ],
   "source": [
    "def transpose_matrix(matrix):\n",
    "    return [[matrix[j][i] for j in range(len(matrix))] for i in range(len(matrix[0]))]\n",
    "\n",
    "# Example usage:\n",
    "original_matrix = [\n",
    "    [1, 2, 3],\n",
    "    [4, 5, 6],\n",
    "    [7, 8, 9]\n",
    "]\n",
    "\n",
    "transposed_matrix = transpose_matrix(original_matrix)\n",
    "print(\"Original Matrix:\")\n",
    "for row in original_matrix:\n",
    "    print(row)\n",
    "\n",
    "print(\"\\nTransposed Matrix:\")\n",
    "for row in transposed_matrix:\n",
    "    print(row)\n"
   ]
  },
  {
   "cell_type": "markdown",
   "id": "9f313f4f",
   "metadata": {},
   "source": [
    "# 4. Write a Python Program to Sort Words in Alphabetic Order?\n"
   ]
  },
  {
   "cell_type": "code",
   "execution_count": 31,
   "id": "8ad4750c",
   "metadata": {},
   "outputs": [],
   "source": [
    "words = ['Write', 'raw', 'LaTeX', 'or', 'other', 'formats', 'here,', 'for', 'use', 'with', 'nbconvert.']"
   ]
  },
  {
   "cell_type": "code",
   "execution_count": 40,
   "id": "15367b59",
   "metadata": {},
   "outputs": [
    {
     "name": "stdout",
     "output_type": "stream",
     "text": [
      "Original list of words: ['LaTeX', 'Write', 'for', 'formats', 'here,', 'nbconvert.', 'or', 'other', 'raw', 'use', 'with']\n",
      "Sorted list of words: ['LaTeX', 'Write', 'for', 'formats', 'here,', 'nbconvert.', 'or', 'other', 'raw', 'use', 'with']\n"
     ]
    }
   ],
   "source": [
    "sorted_words = sorted(words)\n",
    "\n",
    "print(\"Original list of words:\", words)\n",
    "print(\"Sorted list of words:\", sorted_words)"
   ]
  },
  {
   "cell_type": "markdown",
   "id": "dee5e400",
   "metadata": {},
   "source": [
    "# 5. Write a Python Program to Remove Punctuation From a String?"
   ]
  },
  {
   "cell_type": "code",
   "execution_count": 41,
   "id": "4f78707b",
   "metadata": {},
   "outputs": [
    {
     "name": "stdout",
     "output_type": "stream",
     "text": [
      "Original string: Hello, World! This is an example string with punctuations!!!\n",
      "String without punctuations: Hello World This is an example string with punctuations\n"
     ]
    }
   ],
   "source": [
    "import string\n",
    "\n",
    "def remove_punctuation(input_string):\n",
    "    translator = str.maketrans(\"\", \"\", string.punctuation)\n",
    "    no_punct = input_string.translate(translator)\n",
    "    return no_punct\n",
    "\n",
    "# Example usage:\n",
    "input_string = \"Hello, World! This is an example string with punctuations!!!\"\n",
    "result = remove_punctuation(input_string)\n",
    "\n",
    "print(\"Original string:\", input_string)\n",
    "print(\"String without punctuations:\", result)\n"
   ]
  },
  {
   "cell_type": "code",
   "execution_count": null,
   "id": "553b630e",
   "metadata": {},
   "outputs": [],
   "source": []
  }
 ],
 "metadata": {
  "kernelspec": {
   "display_name": "Python 3 (ipykernel)",
   "language": "python",
   "name": "python3"
  },
  "language_info": {
   "codemirror_mode": {
    "name": "ipython",
    "version": 3
   },
   "file_extension": ".py",
   "mimetype": "text/x-python",
   "name": "python",
   "nbconvert_exporter": "python",
   "pygments_lexer": "ipython3",
   "version": "3.9.13"
  }
 },
 "nbformat": 4,
 "nbformat_minor": 5
}
